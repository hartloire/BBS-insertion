{
 "cells": [
  {
   "cell_type": "code",
   "execution_count": 25,
   "metadata": {},
   "outputs": [],
   "source": [
    "def insertion(P,ins,Q,rec):\n",
    "    for c,col in enumerate(P):\n",
    "        if (col[-1] <= ins and ins > 0) or (col[-1] < ins and ins < 0):\n",
    "            col.append(ins)\n",
    "            Q[c].append(rec)\n",
    "            return P,Q\n",
    "\n",
    "        for i,row in enumerate(col):\n",
    "            if (row > ins and ins > 0)or (row >= ins and ins < 0):\n",
    "                col[i] = ins\n",
    "                ins = row\n",
    "                #temp = (Q[c])[i]\n",
    "                #(Q[c])[i] = rec\n",
    "                # rec = temp\n",
    "                break\n",
    "    P.append([ins])\n",
    "    Q.append([rec])\n",
    "    return P,Q\n",
    "\n",
    "def blankInsertion(word):\n",
    "    P=[]\n",
    "    Q=[]\n",
    "    for r,element in enumerate(word):\n",
    "        insertion(P,element,Q,r+1)\n",
    "    return Tableau(P).conjugate(), Tableau(Q).conjugate()\n",
    "\n",
    "def wordInsertion(P, biword):\n",
    "    Q = [[None]*len(col) for col in P]\n",
    "    for r,element in biword:\n",
    "        insertion(P,element,Q,r)\n",
    "    return Tableau(P).conjugate(), SkewTableau(Q).conjugate()\n",
    "\n",
    "def tableauColumnRead(SSYT):\n",
    "    columnRead = []\n",
    "    for col in reversed(SSYT):\n",
    "        for i,row in enumerate(col):\n",
    "            columnRead.append((i+1, row))\n",
    "    return columnRead\n",
    "\n",
    "def colTableauInsertion(P, L):\n",
    "    P, Q = wordInsertion(P, tableauColumnRead(L))\n",
    "    return P, Q\n",
    "\n",
    "def inverseInsertion(P, Q):\n",
    "    m = max(max(col) for col in Q)\n",
    "    for c,col in reversed(list(enumerate(Q))):\n",
    "        if max(col) == m:\n",
    "            columnIndex = c\n",
    "            break\n",
    "    if m == -1:  # Our special value for an quotiented box\n",
    "        return None, None\n",
    "    Q[columnIndex].pop()\n",
    "    val = P[columnIndex].pop()\n",
    "    if not P[columnIndex]:\n",
    "        P.pop()\n",
    "        Q.pop()\n",
    "    for c in range(columnIndex-1, -1, -1):\n",
    "        col = P[c]\n",
    "        for i,row in reversed(list(enumerate(col))):\n",
    "            if (row <= val and val < 0) or (row < val and val > 0):  ## TODO: Different for bosonic and fermionic letters\n",
    "                col[i] = val\n",
    "                val = row\n",
    "                break\n",
    "    return val, m\n",
    "\n",
    "def inverseTableauInsertion(P,Q):\n",
    "    Plst = [list(col) for col in P.conjugate()]\n",
    "    Qlst = [[val if val is not None else -1 for val in col] for col in Q.conjugate()]\n",
    "    m = max(max(col) for col in Qlst)\n",
    "    biword = []\n",
    "    while m != -1:\n",
    "        #print(ascii_art([Tableau(Plst).conjugate(), Tableau(Qlst).conjugate()]))\n",
    "        b, t = inverseInsertion(Plst,Qlst)\n",
    "        #print(Qlst)\n",
    "        biword.append((t, b))\n",
    "        m = max(max(col) for col in Qlst)\n",
    "    #print(ascii_art(Tableau(Plst).conjugate()))\n",
    "    return list(reversed(biword))"
   ]
  },
  {
   "cell_type": "code",
   "execution_count": 8,
   "metadata": {},
   "outputs": [
    {
     "data": {
      "text/plain": [
       "[(1, 1),\n",
       " (2, 5),\n",
       " (3, 2),\n",
       " (4, 3),\n",
       " (5, 1),\n",
       " (1, 1),\n",
       " (2, 2),\n",
       " (3, 5),\n",
       " (4, 4),\n",
       " (5, -2),\n",
       " (1, 2),\n",
       " (2, 3),\n",
       " (3, 4),\n",
       " (1, 1),\n",
       " (2, 2),\n",
       " (3, 3)]"
      ]
     },
     "execution_count": 8,
     "metadata": {},
     "output_type": "execute_result"
    }
   ],
   "source": [
    "tableauColumnRead([[1,2,3],[2,3,4],[1,2,5,4,-2],[1,5,2,3,1]])"
   ]
  },
  {
   "cell_type": "code",
   "execution_count": 7,
   "metadata": {},
   "outputs": [
    {
     "name": "stdout",
     "output_type": "stream",
     "text": [
      "(  -3 -2  1    .  .  1 )\n",
      "(  -1  2       .  .    )\n",
      "(   1  3   ,   .  .    )\n",
      "(-3, 1)\n"
     ]
    },
    {
     "data": {
      "text/plain": [
       " -2  1\n",
       " -1  2\n",
       "  1  3"
      ]
     },
     "execution_count": 7,
     "metadata": {},
     "output_type": "execute_result"
    }
   ],
   "source": [
    "P, Q = wordInsertion([[-2,-1,1],[1,2,3]],[(1,-3)])\n",
    "print(ascii_art((P, Q)))\n",
    "Plst = [list(col) for col in P.conjugate()]\n",
    "Qlst = [[val if val is not None else -1 for val in col]\n",
    "        for col in Q.conjugate()]\n",
    "print(inverseInsertion(Plst, Qlst))\n",
    "ascii_art(Tableau(Plst).conjugate())"
   ]
  },
  {
   "cell_type": "code",
   "execution_count": 10,
   "metadata": {},
   "outputs": [
    {
     "name": "stdout",
     "output_type": "stream",
     "text": [
      "(  -3 -2 -2  1    .  .  1  4 )\n",
      "(  -2 -1  2       .  .  2    )\n",
      "(  -1  1  3   ,   .  .  3    )\n"
     ]
    },
    {
     "data": {
      "text/plain": [
       "[(1, -3), (2, -2), (3, -1), (4, -2)]"
      ]
     },
     "execution_count": 10,
     "metadata": {},
     "output_type": "execute_result"
    }
   ],
   "source": [
    "P, Q = wordInsertion([[-2,-1,1],[1,2,3]],[(1,-3),(2,-2),(3,-1),(4,-2)])\n",
    "print(ascii_art((P, Q)))\n",
    "inverseTableauInsertion(P,Q)"
   ]
  },
  {
   "cell_type": "code",
   "execution_count": 9,
   "metadata": {},
   "outputs": [
    {
     "name": "stdout",
     "output_type": "stream",
     "text": [
      "(None, None)\n"
     ]
    },
    {
     "data": {
      "text/plain": [
       " -2  1\n",
       " -1  2\n",
       "  1  3"
      ]
     },
     "execution_count": 9,
     "metadata": {},
     "output_type": "execute_result"
    }
   ],
   "source": [
    "print(inverseInsertion(Plst, Qlst))\n",
    "ascii_art(Tableau(Plst).conjugate())\n"
   ]
  },
  {
   "cell_type": "code",
   "execution_count": 27,
   "metadata": {},
   "outputs": [
    {
     "ename": "NameError",
     "evalue": "name 'Q1st' is not defined",
     "output_type": "error",
     "traceback": [
      "\u001b[0;31m---------------------------------------------------------------------------\u001b[0m",
      "\u001b[0;31mNameError\u001b[0m                                 Traceback (most recent call last)",
      "\u001b[0;32m<ipython-input-27-5f25acb8f2da>\u001b[0m in \u001b[0;36m<module>\u001b[0;34m()\u001b[0m\n\u001b[1;32m      1\u001b[0m Qlst = [[val if val is not None else -Integer(1) for val in col]\n\u001b[1;32m      2\u001b[0m         for col in Q.conjugate()]\n\u001b[0;32m----> 3\u001b[0;31m \u001b[0mprint\u001b[0m\u001b[0;34m(\u001b[0m\u001b[0mQ1st\u001b[0m\u001b[0;34m)\u001b[0m\u001b[0;34m\u001b[0m\u001b[0;34m\u001b[0m\u001b[0m\n\u001b[0m",
      "\u001b[0;31mNameError\u001b[0m: name 'Q1st' is not defined"
     ]
    }
   ],
   "source": [
    "Qlst = [[val if val is not None else -1 for val in col]\n",
    "        for col in Q.conjugate()]"
   ]
  },
  {
   "cell_type": "markdown",
   "metadata": {},
   "source": []
  },
  {
   "cell_type": "code",
   "execution_count": 4,
   "metadata": {},
   "outputs": [
    {
     "data": {
      "text/plain": [
       "⎛ ┌────┬───┐  ┌───┬───┐ ⎞\n",
       "⎜ │ -2 │ 1 │  │ 1 │ 2 │ ⎟\n",
       "⎜ ├────┼───┤  ├───┼───┤ ⎟\n",
       "⎜ │ 2  │ 3 │  │ 3 │ 5 │ ⎟\n",
       "⎜ ├────┼───┘  ├───┼───┘ ⎟\n",
       "⎜ │ 5  │      │ 4 │     ⎟\n",
       "⎝ └────┘    , └───┘     ⎠"
      ]
     },
     "execution_count": 4,
     "metadata": {},
     "output_type": "execute_result"
    }
   ],
   "source": [
    "unicode_art(blankInsertion([1,-2,3,5,2]))"
   ]
  },
  {
   "cell_type": "code",
   "execution_count": 5,
   "metadata": {},
   "outputs": [
    {
     "data": {
      "text/plain": [
       "(  -2  1  2    .  .  1 )\n",
       "(   2  3  4    .  .  2 )\n",
       "(   2  3       .  .    )\n",
       "(   2  4   ,   3  4    )"
      ]
     },
     "execution_count": 5,
     "metadata": {},
     "output_type": "execute_result"
    }
   ],
   "source": [
    "ascii_art(wordInsertion([[1,2,3],[2,3,4]],[(1,-2),(2,2),(3,4),(4,2)]))"
   ]
  },
  {
   "cell_type": "code",
   "execution_count": 55,
   "metadata": {},
   "outputs": [],
   "source": [
    "p = [1,2,3,4]"
   ]
  },
  {
   "cell_type": "code",
   "execution_count": 59,
   "metadata": {},
   "outputs": [
    {
     "data": {
      "text/plain": [
       "3"
      ]
     },
     "execution_count": 59,
     "metadata": {},
     "output_type": "execute_result"
    }
   ],
   "source": [
    "p.index(max(p))"
   ]
  },
  {
   "cell_type": "code",
   "execution_count": 26,
   "metadata": {},
   "outputs": [
    {
     "data": {
      "text/plain": [
       "(  -2 -2 -2 -2 -2 -2    .  .  .  .  1  1 )\n",
       "(  -1 -1 -1 -1 -1       .  .  .  .  2    )\n",
       "(   1  2  3  4  5       .  .  .  .  3    )\n",
       "(   1  2  3  4          .  .  .  .       )\n",
       "(   1  2                2  4             )\n",
       "(   1                   3                )\n",
       "(   1               ,   4                )"
      ]
     },
     "execution_count": 26,
     "metadata": {},
     "output_type": "execute_result"
    }
   ],
   "source": [
    "P1 = [[-2,-1,1,1], [-2,-1,2,3], [-2,-1,3,4], [-2,-1,4,5]]\n",
    "P2 = [[-2,-1,1,1], [-2,1,2,2]]\n",
    "P,Q = colTableauInsertion(P1, P2)\n",
    "ascii_art((P, Q))"
   ]
  },
  {
   "cell_type": "code",
   "execution_count": 27,
   "metadata": {},
   "outputs": [
    {
     "data": {
      "text/plain": [
       "[(1, -2), (1, -2), (2, 1), (2, -1), (3, 2), (3, 1), (4, 2), (4, 1)]"
      ]
     },
     "execution_count": 27,
     "metadata": {},
     "output_type": "execute_result"
    }
   ],
   "source": [
    "inverseTableauInsertion(P, Q)"
   ]
  },
  {
   "cell_type": "code",
   "execution_count": 7,
   "metadata": {},
   "outputs": [
    {
     "ename": "TypeError",
     "evalue": "'>' not supported between instances of 'NoneType' and 'NoneType'",
     "output_type": "error",
     "traceback": [
      "\u001b[0;31m---------------------------------------------------------------------------\u001b[0m",
      "\u001b[0;31mTypeError\u001b[0m                                 Traceback (most recent call last)",
      "\u001b[0;32m<ipython-input-7-47b5aeb65ec6>\u001b[0m in \u001b[0;36m<module>\u001b[0;34m()\u001b[0m\n\u001b[1;32m      1\u001b[0m \u001b[0mS\u001b[0m \u001b[0;34m=\u001b[0m \u001b[0;34m[\u001b[0m\u001b[0;34m[\u001b[0m\u001b[0mInteger\u001b[0m\u001b[0;34m(\u001b[0m\u001b[0;36m1\u001b[0m\u001b[0;34m)\u001b[0m\u001b[0;34m,\u001b[0m\u001b[0mInteger\u001b[0m\u001b[0;34m(\u001b[0m\u001b[0;36m3\u001b[0m\u001b[0;34m)\u001b[0m\u001b[0;34m]\u001b[0m\u001b[0;34m,\u001b[0m\u001b[0;34m[\u001b[0m\u001b[0mInteger\u001b[0m\u001b[0;34m(\u001b[0m\u001b[0;36m2\u001b[0m\u001b[0;34m)\u001b[0m\u001b[0;34m,\u001b[0m\u001b[0mInteger\u001b[0m\u001b[0;34m(\u001b[0m\u001b[0;36m3\u001b[0m\u001b[0;34m)\u001b[0m\u001b[0;34m]\u001b[0m\u001b[0;34m]\u001b[0m\u001b[0;34m\u001b[0m\u001b[0;34m\u001b[0m\u001b[0m\n\u001b[0;32m----> 2\u001b[0;31m \u001b[0mm\u001b[0m \u001b[0;34m=\u001b[0m \u001b[0mmax\u001b[0m\u001b[0;34m(\u001b[0m\u001b[0mmax\u001b[0m\u001b[0;34m(\u001b[0m\u001b[0mcol\u001b[0m\u001b[0;34m)\u001b[0m \u001b[0;32mfor\u001b[0m \u001b[0mcol\u001b[0m \u001b[0;32min\u001b[0m \u001b[0mQ\u001b[0m\u001b[0;34m)\u001b[0m\u001b[0;34m\u001b[0m\u001b[0;34m\u001b[0m\u001b[0m\n\u001b[0m\u001b[1;32m      3\u001b[0m \u001b[0mS\u001b[0m\u001b[0;34m[\u001b[0m\u001b[0mInteger\u001b[0m\u001b[0;34m(\u001b[0m\u001b[0;36m1\u001b[0m\u001b[0;34m)\u001b[0m\u001b[0;34m]\u001b[0m\u001b[0;34m.\u001b[0m\u001b[0mindex\u001b[0m\u001b[0;34m(\u001b[0m\u001b[0mInteger\u001b[0m\u001b[0;34m(\u001b[0m\u001b[0;36m2\u001b[0m\u001b[0;34m)\u001b[0m\u001b[0;34m)\u001b[0m\u001b[0;34m\u001b[0m\u001b[0;34m\u001b[0m\u001b[0m\n",
      "\u001b[0;32m<ipython-input-7-47b5aeb65ec6>\u001b[0m in \u001b[0;36m<genexpr>\u001b[0;34m(.0)\u001b[0m\n\u001b[1;32m      1\u001b[0m \u001b[0mS\u001b[0m \u001b[0;34m=\u001b[0m \u001b[0;34m[\u001b[0m\u001b[0;34m[\u001b[0m\u001b[0mInteger\u001b[0m\u001b[0;34m(\u001b[0m\u001b[0;36m1\u001b[0m\u001b[0;34m)\u001b[0m\u001b[0;34m,\u001b[0m\u001b[0mInteger\u001b[0m\u001b[0;34m(\u001b[0m\u001b[0;36m3\u001b[0m\u001b[0;34m)\u001b[0m\u001b[0;34m]\u001b[0m\u001b[0;34m,\u001b[0m\u001b[0;34m[\u001b[0m\u001b[0mInteger\u001b[0m\u001b[0;34m(\u001b[0m\u001b[0;36m2\u001b[0m\u001b[0;34m)\u001b[0m\u001b[0;34m,\u001b[0m\u001b[0mInteger\u001b[0m\u001b[0;34m(\u001b[0m\u001b[0;36m3\u001b[0m\u001b[0;34m)\u001b[0m\u001b[0;34m]\u001b[0m\u001b[0;34m]\u001b[0m\u001b[0;34m\u001b[0m\u001b[0;34m\u001b[0m\u001b[0m\n\u001b[0;32m----> 2\u001b[0;31m \u001b[0mm\u001b[0m \u001b[0;34m=\u001b[0m \u001b[0mmax\u001b[0m\u001b[0;34m(\u001b[0m\u001b[0mmax\u001b[0m\u001b[0;34m(\u001b[0m\u001b[0mcol\u001b[0m\u001b[0;34m)\u001b[0m \u001b[0;32mfor\u001b[0m \u001b[0mcol\u001b[0m \u001b[0;32min\u001b[0m \u001b[0mQ\u001b[0m\u001b[0;34m)\u001b[0m\u001b[0;34m\u001b[0m\u001b[0;34m\u001b[0m\u001b[0m\n\u001b[0m\u001b[1;32m      3\u001b[0m \u001b[0mS\u001b[0m\u001b[0;34m[\u001b[0m\u001b[0mInteger\u001b[0m\u001b[0;34m(\u001b[0m\u001b[0;36m1\u001b[0m\u001b[0;34m)\u001b[0m\u001b[0;34m]\u001b[0m\u001b[0;34m.\u001b[0m\u001b[0mindex\u001b[0m\u001b[0;34m(\u001b[0m\u001b[0mInteger\u001b[0m\u001b[0;34m(\u001b[0m\u001b[0;36m2\u001b[0m\u001b[0;34m)\u001b[0m\u001b[0;34m)\u001b[0m\u001b[0;34m\u001b[0m\u001b[0;34m\u001b[0m\u001b[0m\n",
      "\u001b[0;31mTypeError\u001b[0m: '>' not supported between instances of 'NoneType' and 'NoneType'"
     ]
    }
   ],
   "source": [
    "S = [[1,3],[2,3]]\n",
    "m = max(max(col) for col in Q)\n",
    "S[1].index(2)"
   ]
  },
  {
   "cell_type": "code",
   "execution_count": 8,
   "metadata": {},
   "outputs": [
    {
     "data": {
      "text/plain": [
       "[(1, -2), (2, 1), (3, 2), (4, 2), (1, -2), (2, -1), (3, 1), (4, 1)]"
      ]
     },
     "execution_count": 8,
     "metadata": {},
     "output_type": "execute_result"
    }
   ],
   "source": [
    "tableauColumnRead(P2)"
   ]
  },
  {
   "cell_type": "code",
   "execution_count": 9,
   "metadata": {},
   "outputs": [
    {
     "name": "stdout",
     "output_type": "stream",
     "text": [
      " -2 -2\n",
      " -1  1\n",
      "  1  2\n",
      "  1  2\n"
     ]
    }
   ],
   "source": [
    "Tableau(P2).conjugate().pp()"
   ]
  },
  {
   "cell_type": "code",
   "execution_count": null,
   "metadata": {},
   "outputs": [],
   "source": []
  }
 ],
 "metadata": {
  "kernelspec": {
   "display_name": "SageMath 9.1",
   "language": "sage",
   "name": "sagemath"
  },
  "language_info": {
   "codemirror_mode": {
    "name": "ipython",
    "version": 3
   },
   "file_extension": ".py",
   "mimetype": "text/x-python",
   "name": "python",
   "nbconvert_exporter": "python",
   "pygments_lexer": "ipython3",
   "version": "3.7.3"
  }
 },
 "nbformat": 4,
 "nbformat_minor": 2
}
