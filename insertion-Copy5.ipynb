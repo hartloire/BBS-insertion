{
 "cells": [
  {
   "cell_type": "code",
   "execution_count": 19,
   "metadata": {},
   "outputs": [],
   "source": [
    "def insertion(P,ins,Q,rec,rec_list):\n",
    "    for c,col in enumerate(P): #we need to offset the index of the tableau\n",
    "        if (col[-1] <= ins and ins > 0) or (col[-1] < ins and ins < 0):\n",
    "            rec_list.append(c+1)     #append the column index related to the insertion\n",
    "            col.append(ins) \n",
    "            Q[c].append(rec)\n",
    "            return P,rec_list\n",
    "\n",
    "        for i,row in enumerate(col):\n",
    "            if (row > ins and ins > 0)or (row >= ins and ins < 0):\n",
    "                col[i] = ins\n",
    "                ins = row\n",
    "                break\n",
    "    P.append([ins])\n",
    "    rec_list.append(len(P))\n",
    "    Q.append([rec])\n",
    "    return P,rec_list\n",
    "\n",
    "def blankInsertion(word):\n",
    "    P=[]\n",
    "    Q=[]\n",
    "    for r,element in enumerate(word):\n",
    "        insertion(P,element,Q,r+1)\n",
    "    return Tableau(P).conjugate(), Tableau(Q).conjugate()\n",
    "\n",
    "def wordInsertion(P, biword):\n",
    "    if isinstance(P, Tableau):\n",
    "        P = P.conjugate()\n",
    "    P = [list(col) for col in P]\n",
    "    Q = [[None]*len(col) for col in P]\n",
    "    rec_list = []\n",
    "    for r,element in biword:\n",
    "        insertion(P,element,Q,r,rec_list)\n",
    "    return Tableau(P).conjugate(), rec_list\n",
    "\n",
    "def tableauColumnRead(SSYT):\n",
    "    columnRead = []\n",
    "    for col in reversed(SSYT):\n",
    "        for i,row in enumerate(col):\n",
    "            columnRead.append((i+1, row))\n",
    "    return columnRead\n",
    "\n",
    "def colTableauInsertion(P, L):\n",
    "    P, rec_list = wordInsertion(P, tableauColumnRead(L))\n",
    "    return P, rec_list\n",
    "\n",
    "def inverseInsertion(P, columnIndex):\n",
    "    columnIndex -= 1  # To make it 0-based\n",
    "    val = P[columnIndex].pop()\n",
    "    if not P[columnIndex]:\n",
    "        P.pop()\n",
    "    for c in range(columnIndex-1, -1, -1):\n",
    "        col = P[c]\n",
    "        for i,row in reversed(list(enumerate(col))):\n",
    "            if (row <= val and val < 0) or (row < val and val > 0):\n",
    "                col[i] = val\n",
    "                val = row\n",
    "                break\n",
    "    return val\n",
    "\n",
    "def inverseTableauInsertion(P, rec_list):\n",
    "    Plst = [list(col) for col in P.conjugate()]\n",
    "    for ind in reversed(rec_list):\n",
    "        #print(ascii_art(Tableau(Plst).conjugate()))\n",
    "        inverseInsertion(Plst, ind)\n",
    "    return Tableau(Plst).conjugate()"
   ]
  },
  {
   "cell_type": "code",
   "execution_count": null,
   "metadata": {},
   "outputs": [],
   "source": [
    "P,rec_list= wordInsertion([[1,2,3],[2,3,4]],[(1,1),(2,2),(3,3)])\n",
    "print(ascii_art(Tableau(P)))\n",
    "print(rec_list)"
   ]
  },
  {
   "cell_type": "code",
   "execution_count": null,
   "metadata": {},
   "outputs": [],
   "source": [
    "tableauColumnRead([[1,2,3],[2,3,4],[1,2,5,4,-2],[1,5,2,3,1]])"
   ]
  },
  {
   "cell_type": "code",
   "execution_count": null,
   "metadata": {},
   "outputs": [],
   "source": [
    "P, rec_list = wordInsertion([[-2,-1,1],[1,2,3]],[(1,-3)])\n",
    "print(ascii_art((P, Q)))\n",
    "Plst = [list(col) for col in P.conjugate()]\n",
    "Qlst = [[val if val is not None else -1 for val in col]\n",
    "        for col in Q.conjugate()]\n",
    "print(inverseInsertion(Plst, Qlst))\n",
    "ascii_art(Tableau(Plst).conjugate())"
   ]
  },
  {
   "cell_type": "code",
   "execution_count": null,
   "metadata": {},
   "outputs": [],
   "source": [
    "P, Q = wordInsertion([[-2,-1,1],[1,2,3]],[(1,-3),(2,-2),(3,-1),(4,-2)])\n",
    "print(ascii_art((P, Q)))\n",
    "Preduced, Qreduced = inverseTableauInsertion(P,Q)\n",
    "print(Preduced, Qreduced)\n",
    "ascii_art(Tableau(Preduced).conjugate())"
   ]
  },
  {
   "cell_type": "code",
   "execution_count": null,
   "metadata": {},
   "outputs": [],
   "source": [
    "print(inverseInsertion(Plst, Qlst))\n",
    "ascii_art(Tableau(Plst).conjugate())\n"
   ]
  },
  {
   "cell_type": "code",
   "execution_count": 66,
   "metadata": {},
   "outputs": [],
   "source": [
    "Qlst = [[val if val is not None else -1 for val in col]\n",
    "        for col in Q.conjugate()]"
   ]
  },
  {
   "cell_type": "markdown",
   "metadata": {},
   "source": []
  },
  {
   "cell_type": "code",
   "execution_count": null,
   "metadata": {},
   "outputs": [],
   "source": []
  },
  {
   "cell_type": "code",
   "execution_count": null,
   "metadata": {},
   "outputs": [],
   "source": []
  },
  {
   "cell_type": "code",
   "execution_count": 55,
   "metadata": {},
   "outputs": [],
   "source": []
  },
  {
   "cell_type": "code",
   "execution_count": null,
   "metadata": {},
   "outputs": [],
   "source": [
    "\n"
   ]
  },
  {
   "cell_type": "code",
   "execution_count": 8,
   "metadata": {},
   "outputs": [
    {
     "data": {
      "text/plain": [
       "(  -2 -2 -2 -2 -2 -2                             )\n",
       "(  -1 -1 -1 -1 -1                                )\n",
       "(   1  2  3  4  5                                )\n",
       "(   1  2  3  4                                   )\n",
       "(   1  2                                         )\n",
       "(   1                                            )\n",
       "(   1               , [ 5, 1, 1, 1, 6, 5, 5, 2 ] )"
      ]
     },
     "execution_count": 8,
     "metadata": {},
     "output_type": "execute_result"
    }
   ],
   "source": [
    "P1 = [[-2,-1,1,1], [-2,-1,2,3], [-2,-1,3,4], [-2,-1,4,5]]\n",
    "P2 = [[-2,-1,1,1], [-2,1,2,2]]\n",
    "ascii_art(colTableauInsertion(P1, P2))"
   ]
  },
  {
   "cell_type": "code",
   "execution_count": 18,
   "metadata": {},
   "outputs": [
    {
     "data": {
      "text/plain": [
       "[[-2, -1, 1, 1], [-2, -1, 2, 3], [-2, -1, 3, 4], [-2, -1, 4, 5]]"
      ]
     },
     "execution_count": 18,
     "metadata": {},
     "output_type": "execute_result"
    }
   ],
   "source": [
    "inverseTableauInsertion(*colTableauInsertion(P1, P2))"
   ]
  },
  {
   "cell_type": "code",
   "execution_count": 134,
   "metadata": {},
   "outputs": [
    {
     "data": {
      "text/plain": [
       "[(1, -2), (2, 1), (3, 2), (4, 2), (1, -2), (2, -1), (3, 1), (4, 1)]"
      ]
     },
     "execution_count": 134,
     "metadata": {},
     "output_type": "execute_result"
    }
   ],
   "source": [
    "tableauColumnRead(P2)"
   ]
  },
  {
   "cell_type": "code",
   "execution_count": 9,
   "metadata": {},
   "outputs": [
    {
     "name": "stdout",
     "output_type": "stream",
     "text": [
      " -2 -2\n",
      " -1  1\n",
      "  1  2\n",
      "  1  2\n"
     ]
    }
   ],
   "source": [
    "Tableau(P2).conjugate().pp()"
   ]
  },
  {
   "cell_type": "code",
   "execution_count": null,
   "metadata": {},
   "outputs": [],
   "source": []
  }
 ],
 "metadata": {
  "kernelspec": {
   "display_name": "SageMath 9.1",
   "language": "sage",
   "name": "sagemath"
  }
 },
 "nbformat": 4,
 "nbformat_minor": 2
}
